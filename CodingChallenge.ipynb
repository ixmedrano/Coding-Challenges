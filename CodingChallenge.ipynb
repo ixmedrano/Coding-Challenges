{
 "cells": [
  {
   "cell_type": "markdown",
   "metadata": {},
   "source": [
    "# Find Multiples"
   ]
  },
  {
   "cell_type": "code",
   "execution_count": 15,
   "metadata": {},
   "outputs": [
    {
     "name": "stdout",
     "output_type": "stream",
     "text": [
      "FizzBuzz\n",
      "Nah\n",
      "Nah\n",
      "Nah\n",
      "Nah\n",
      "FizzBuzz\n",
      "Nah\n",
      "Nah\n",
      "Nah\n",
      "Nah\n",
      "FizzBuzz\n",
      "Nah\n",
      "Nah\n",
      "Nah\n",
      "Nah\n"
     ]
    }
   ],
   "source": [
    "n = 15\n",
    "while n > 0:\n",
    "    if n % 5 == 0 :\n",
    "        print(\"FizzBuzz\")\n",
    "        n = n-1\n",
    "    else:\n",
    "        print(\"Nah\")\n",
    "        n = n-1\n"
   ]
  },
  {
   "cell_type": "markdown",
   "metadata": {},
   "source": [
    "# Find Intersection"
   ]
  },
  {
   "cell_type": "code",
   "execution_count": 17,
   "metadata": {},
   "outputs": [
    {
     "data": {
      "text/plain": [
       "'1,4,13'"
      ]
     },
     "execution_count": 17,
     "metadata": {},
     "output_type": "execute_result"
    }
   ],
   "source": [
    "strArr = [\"1, 3, 4, 7, 13\", \"1, 2, 4, 13, 15\"]\n",
    "def FindIntersection(strArr):\n",
    "\n",
    "  l1 = strArr[0].split(\", \")\n",
    "  l2 = strArr[1].split(\", \")\n",
    "  res = [val for val in l1 if val in l2]\n",
    "  return \",\".join(res) if len(res) > 0 else False\n",
    "\n",
    "# keep this function call here \n",
    "FindIntersection(strArr)"
   ]
  },
  {
   "cell_type": "markdown",
   "metadata": {},
   "source": [
    "# Equivelant Key Presses"
   ]
  },
  {
   "cell_type": "code",
   "execution_count": 18,
   "metadata": {},
   "outputs": [
    {
     "data": {
      "text/plain": [
       "'true'"
      ]
     },
     "execution_count": 18,
     "metadata": {},
     "output_type": "execute_result"
    }
   ],
   "source": [
    "strArr = [\"a,b,c,d\", \"a,b,c,d,-B,d\"]\n",
    "def EquivalentKeypresses(strArr):\n",
    "\n",
    "  firstKeyPress = strArr[0].replace(\",\",\"\")\n",
    "  secondKeyPress = strArr[1].replace(\",\",\"\")\n",
    "\n",
    "  while True:\n",
    "    fbackIdx = firstKeyPress.find(\"-B\")\n",
    "    if fbackIdx == 0:\n",
    "      firstKeyPress = firstKeyPress[fbackIdx+2:]\n",
    "    elif fbackIdx > 0:\n",
    "      firstKeyPress = firstKeyPress[0:fbackIdx-1]+firstKeyPress[fbackIdx+2:]\n",
    "    sbackIdx = secondKeyPress.find(\"-B\")\n",
    "    if sbackIdx == 0:\n",
    "      secondKeyPress = secondKeyPress[sbackIdx+2:]\n",
    "    elif sbackIdx > 0:\n",
    "      secondKeyPress = secondKeyPress[0:sbackIdx-1]+secondKeyPress[sbackIdx+2:]\n",
    "    if fbackIdx < 0 and sbackIdx < 0:\n",
    "      break\n",
    "\n",
    "  if firstKeyPress == secondKeyPress:\n",
    "    return \"true\"\n",
    "  return \"false\"\n",
    "\n",
    "# keep this function call here \n",
    "EquivalentKeypresses(strArr)"
   ]
  },
  {
   "cell_type": "markdown",
   "metadata": {},
   "source": [
    "# Longest Word"
   ]
  },
  {
   "cell_type": "code",
   "execution_count": 19,
   "metadata": {},
   "outputs": [
    {
     "data": {
      "text/plain": [
       "'Argument'"
      ]
     },
     "execution_count": 19,
     "metadata": {},
     "output_type": "execute_result"
    }
   ],
   "source": [
    "sen = \"Argument goes here\"\n",
    "\n",
    "def LongestWord(sen): \n",
    "    liststr=sen.split(\" \")\n",
    "    max=liststr[0]\n",
    "    for i in range(len(liststr)):\n",
    "      if len(liststr[i])>len(max) and liststr[i].isalpha():\n",
    "        max=liststr[i]\n",
    "    return max\n",
    "    \n",
    "LongestWord(sen)"
   ]
  },
  {
   "cell_type": "markdown",
   "metadata": {},
   "source": [
    "# First Factorial"
   ]
  },
  {
   "cell_type": "code",
   "execution_count": 20,
   "metadata": {},
   "outputs": [
    {
     "data": {
      "text/plain": [
       "40320"
      ]
     },
     "execution_count": 20,
     "metadata": {},
     "output_type": "execute_result"
    }
   ],
   "source": [
    "num = 8\n",
    "def FirstFactorial(num): \n",
    "    if num == 1:\n",
    "      return 1\n",
    "    else:\n",
    "      return num * FirstFactorial(num-1)\n",
    "FirstFactorial(num)"
   ]
  },
  {
   "cell_type": "markdown",
   "metadata": {},
   "source": [
    "# Reverse Word"
   ]
  },
  {
   "cell_type": "code",
   "execution_count": 21,
   "metadata": {},
   "outputs": [
    {
     "data": {
      "text/plain": [
       "'dlroW olleH'"
      ]
     },
     "execution_count": 21,
     "metadata": {},
     "output_type": "execute_result"
    }
   ],
   "source": [
    "str = \"Hello World\"\n",
    "def FirstReverse(str):  \n",
    "    return str[::-1]\n",
    "FirstReverse(str)"
   ]
  },
  {
   "cell_type": "code",
   "execution_count": null,
   "metadata": {},
   "outputs": [],
   "source": []
  }
 ],
 "metadata": {
  "kernelspec": {
   "display_name": "Python 3",
   "language": "python",
   "name": "python3"
  },
  "language_info": {
   "name": ""
  }
 },
 "nbformat": 4,
 "nbformat_minor": 4
}
